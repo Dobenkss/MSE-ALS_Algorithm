{
  "nbformat": 4,
  "nbformat_minor": 0,
  "metadata": {
    "colab": {
      "provenance": [],
      "include_colab_link": true
    },
    "kernelspec": {
      "name": "python3",
      "display_name": "Python 3"
    },
    "language_info": {
      "name": "python"
    }
  },
  "cells": [
    {
      "cell_type": "markdown",
      "metadata": {
        "id": "view-in-github",
        "colab_type": "text"
      },
      "source": [
        "<a href=\"https://colab.research.google.com/github/Dobenkss/MSE-ALS_Algorithm/blob/main/ALS_Algorithm.ipynb\" target=\"_parent\"><img src=\"https://colab.research.google.com/assets/colab-badge.svg\" alt=\"Open In Colab\"/></a>"
      ]
    },
    {
      "cell_type": "markdown",
      "source": [
        "NAMA : ABHIPRAYA RASENDRIYA ATMA ARDANY <BR>\n",
        "NIM : 24.21.1587 <BR>\n",
        "LINK : https://colab.research.google.com/drive/16zlzfaNVyBCAdcDOybIeOWFchXRHKitN?usp=sharing"
      ],
      "metadata": {
        "id": "4bip9mMlfHmI"
      }
    },
    {
      "cell_type": "code",
      "execution_count": null,
      "metadata": {
        "colab": {
          "base_uri": "https://localhost:8080/"
        },
        "id": "42Wofr9-wyLH",
        "outputId": "4a7624fa-9767-4778-fd86-09fea93d7508"
      },
      "outputs": [
        {
          "output_type": "stream",
          "name": "stdout",
          "text": [
            "Requirement already satisfied: pyspark in /usr/local/lib/python3.10/dist-packages (3.5.3)\n",
            "Requirement already satisfied: py4j==0.10.9.7 in /usr/local/lib/python3.10/dist-packages (from pyspark) (0.10.9.7)\n"
          ]
        }
      ],
      "source": [
        "!pip install pyspark"
      ]
    },
    {
      "cell_type": "code",
      "source": [
        "from pyspark.sql import SparkSession\n",
        "spark = SparkSession.builder.getOrCreate()\n",
        "sc = spark.sparkContext\n",
        "sc.version"
      ],
      "metadata": {
        "colab": {
          "base_uri": "https://localhost:8080/",
          "height": 36
        },
        "id": "zcwV1SXXwyrW",
        "outputId": "78d70320-01cc-48a0-ee87-5b57aab8ac34"
      },
      "execution_count": null,
      "outputs": [
        {
          "output_type": "execute_result",
          "data": {
            "text/plain": [
              "'3.5.3'"
            ],
            "application/vnd.google.colaboratory.intrinsic+json": {
              "type": "string"
            }
          },
          "metadata": {},
          "execution_count": 19
        }
      ]
    },
    {
      "cell_type": "code",
      "source": [
        "from pyspark.mllib.recommendation import Rating\n",
        "from pyspark.mllib.recommendation import ALS"
      ],
      "metadata": {
        "id": "RsbjkrclxAN_"
      },
      "execution_count": null,
      "outputs": []
    },
    {
      "cell_type": "code",
      "source": [
        "# Load the data into RDD\n",
        "data = sc.textFile('ml_ratings.txt')\n",
        "\n",
        "data.take(5)"
      ],
      "metadata": {
        "id": "q9Gh7DuRxAh0",
        "colab": {
          "base_uri": "https://localhost:8080/"
        },
        "outputId": "cfed23f7-bbb3-45ce-fc3a-bbfa84bfbc3e"
      },
      "execution_count": null,
      "outputs": [
        {
          "output_type": "execute_result",
          "data": {
            "text/plain": [
              "['0::2::3::1424380312',\n",
              " '0::3::1::1424380312',\n",
              " '0::5::2::1424380312',\n",
              " '0::9::4::1424380312',\n",
              " '0::11::1::1424380312']"
            ]
          },
          "metadata": {},
          "execution_count": 22
        }
      ]
    },
    {
      "cell_type": "code",
      "source": [
        "# Create the ALS model on the training data\n",
        "model = ALS.train(training_data, rank=10, iterations=10, lambda_=0.1)\n",
        "\n",
        "# Drop the ratings column\n",
        "testdata_no_rating = test_data.map(lambda p: (p[0], p[1]))\n",
        "\n",
        "# Predict the model\n",
        "predictions = model.predictAll(testdata_no_rating)\n",
        "\n",
        "# Return the first 5 rows of the RDD\n",
        "predictions.take(5)"
      ],
      "metadata": {
        "id": "AuPj-G1yxSaG",
        "colab": {
          "base_uri": "https://localhost:8080/"
        },
        "outputId": "f9539206-a100-4db0-e7e3-4a50c1f995f6"
      },
      "execution_count": null,
      "outputs": [
        {
          "output_type": "execute_result",
          "data": {
            "text/plain": [
              "[Rating(user=22, product=96, rating=1.6979809335874934),\n",
              " Rating(user=24, product=96, rating=3.1121038602929616),\n",
              " Rating(user=12, product=96, rating=0.40941303642183824),\n",
              " Rating(user=26, product=96, rating=1.1893089660097473),\n",
              " Rating(user=26, product=52, rating=2.202290073453877)]"
            ]
          },
          "metadata": {},
          "execution_count": 31
        }
      ]
    },
    {
      "cell_type": "code",
      "source": [
        "# Prepare ratings data\n",
        "rates = ratings_final.map(lambda r: ((r[0], r[1]), r[2]))\n",
        "\n",
        "# Prepare predictions data\n",
        "preds = predictions.map(lambda r: ((r[0], r[1]), r[2]))\n",
        "\n",
        "# Join the ratings data with predictions data\n",
        "rates_and_preds = rates.join(preds)\n",
        "\n",
        "# Calculate and print MSE\n",
        "MSE = rates_and_preds.map(lambda r: (r[1][0] - r[1][1])**2).mean()\n",
        "print(\"Mean Squared Error of the model for the test data = {:.2f}\".format(MSE))"
      ],
      "metadata": {
        "colab": {
          "base_uri": "https://localhost:8080/"
        },
        "id": "nrMGX-6txVbD",
        "outputId": "2a81640d-e785-4951-bc23-4f49e144b113"
      },
      "execution_count": null,
      "outputs": [
        {
          "output_type": "stream",
          "name": "stdout",
          "text": [
            "Mean Squared Error of the model for the test data = 1.04\n"
          ]
        }
      ]
    }
  ]
}